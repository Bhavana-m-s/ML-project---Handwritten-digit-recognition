{
 "cells": [
  {
   "cell_type": "code",
   "execution_count": 1,
   "id": "76b4b4ca-3e02-4d47-9648-85166819ba06",
   "metadata": {},
   "outputs": [],
   "source": [
    "import torch\n",
    "import torch.nn as nn\n",
    "import torch.nn.functional as F\n",
    "import torch.optim as optim\n",
    "import pandas as pd\n",
    "import numpy as np\n",
    "import torchvision.datasets as datasets\n",
    "import torchvision.transforms as transforms\n",
    "from torchvision.transforms import ToTensor\n",
    "from torch.autograd import Variable"
   ]
  },
  {
   "cell_type": "code",
   "execution_count": 2,
   "id": "d5333603-d62a-43d8-8ee1-37ceceab35fb",
   "metadata": {},
   "outputs": [
    {
     "name": "stdout",
     "output_type": "stream",
     "text": [
      "Downloading http://yann.lecun.com/exdb/mnist/train-images-idx3-ubyte.gz\n",
      "Failed to download (trying next):\n",
      "HTTP Error 403: Forbidden\n",
      "\n",
      "Downloading https://ossci-datasets.s3.amazonaws.com/mnist/train-images-idx3-ubyte.gz\n",
      "Downloading https://ossci-datasets.s3.amazonaws.com/mnist/train-images-idx3-ubyte.gz to ./data\\MNIST\\raw\\train-images-idx3-ubyte.gz\n"
     ]
    },
    {
     "name": "stderr",
     "output_type": "stream",
     "text": [
      "100%|██████████| 9912422/9912422 [00:07<00:00, 1282787.90it/s]\n"
     ]
    },
    {
     "name": "stdout",
     "output_type": "stream",
     "text": [
      "Extracting ./data\\MNIST\\raw\\train-images-idx3-ubyte.gz to ./data\\MNIST\\raw\n",
      "\n",
      "Downloading http://yann.lecun.com/exdb/mnist/train-labels-idx1-ubyte.gz\n",
      "Failed to download (trying next):\n",
      "HTTP Error 403: Forbidden\n",
      "\n",
      "Downloading https://ossci-datasets.s3.amazonaws.com/mnist/train-labels-idx1-ubyte.gz\n",
      "Downloading https://ossci-datasets.s3.amazonaws.com/mnist/train-labels-idx1-ubyte.gz to ./data\\MNIST\\raw\\train-labels-idx1-ubyte.gz\n"
     ]
    },
    {
     "name": "stderr",
     "output_type": "stream",
     "text": [
      "100%|██████████| 28881/28881 [00:00<00:00, 127160.56it/s]\n"
     ]
    },
    {
     "name": "stdout",
     "output_type": "stream",
     "text": [
      "Extracting ./data\\MNIST\\raw\\train-labels-idx1-ubyte.gz to ./data\\MNIST\\raw\n",
      "\n",
      "Downloading http://yann.lecun.com/exdb/mnist/t10k-images-idx3-ubyte.gz\n",
      "Failed to download (trying next):\n",
      "HTTP Error 403: Forbidden\n",
      "\n",
      "Downloading https://ossci-datasets.s3.amazonaws.com/mnist/t10k-images-idx3-ubyte.gz\n",
      "Downloading https://ossci-datasets.s3.amazonaws.com/mnist/t10k-images-idx3-ubyte.gz to ./data\\MNIST\\raw\\t10k-images-idx3-ubyte.gz\n"
     ]
    },
    {
     "name": "stderr",
     "output_type": "stream",
     "text": [
      "100%|██████████| 1648877/1648877 [00:02<00:00, 588750.90it/s] \n"
     ]
    },
    {
     "name": "stdout",
     "output_type": "stream",
     "text": [
      "Extracting ./data\\MNIST\\raw\\t10k-images-idx3-ubyte.gz to ./data\\MNIST\\raw\n",
      "\n",
      "Downloading http://yann.lecun.com/exdb/mnist/t10k-labels-idx1-ubyte.gz\n",
      "Failed to download (trying next):\n",
      "HTTP Error 403: Forbidden\n",
      "\n",
      "Downloading https://ossci-datasets.s3.amazonaws.com/mnist/t10k-labels-idx1-ubyte.gz\n",
      "Downloading https://ossci-datasets.s3.amazonaws.com/mnist/t10k-labels-idx1-ubyte.gz to ./data\\MNIST\\raw\\t10k-labels-idx1-ubyte.gz\n"
     ]
    },
    {
     "name": "stderr",
     "output_type": "stream",
     "text": [
      "100%|██████████| 4542/4542 [00:00<?, ?it/s]"
     ]
    },
    {
     "name": "stdout",
     "output_type": "stream",
     "text": [
      "Extracting ./data\\MNIST\\raw\\t10k-labels-idx1-ubyte.gz to ./data\\MNIST\\raw\n",
      "\n"
     ]
    },
    {
     "name": "stderr",
     "output_type": "stream",
     "text": [
      "\n"
     ]
    }
   ],
   "source": [
    "# MNIST Dataset (Images and Labels) \n",
    "train_dataset = datasets.MNIST(\n",
    "    root ='./data',  \n",
    "    train = True,  \n",
    "    transform = transforms.ToTensor(),\n",
    "    download = True) \n",
    "  \n",
    "test_dataset = datasets.MNIST(\n",
    "    root ='./data',  \n",
    "    train = False,  \n",
    "    transform = transforms.ToTensor(),\n",
    "    download = True) "
   ]
  },
  {
   "cell_type": "code",
   "execution_count": 3,
   "id": "10713cf6-e5b8-475e-a893-e95d20472790",
   "metadata": {},
   "outputs": [
    {
     "data": {
      "text/plain": [
       "Dataset MNIST\n",
       "    Number of datapoints: 60000\n",
       "    Root location: ./data\n",
       "    Split: Train\n",
       "    StandardTransform\n",
       "Transform: ToTensor()"
      ]
     },
     "execution_count": 3,
     "metadata": {},
     "output_type": "execute_result"
    }
   ],
   "source": [
    "train_dataset\n"
   ]
  },
  {
   "cell_type": "code",
   "execution_count": 4,
   "id": "85a3ee3b-b79d-4cea-a772-11760cff38eb",
   "metadata": {},
   "outputs": [
    {
     "data": {
      "text/plain": [
       "Dataset MNIST\n",
       "    Number of datapoints: 10000\n",
       "    Root location: ./data\n",
       "    Split: Test\n",
       "    StandardTransform\n",
       "Transform: ToTensor()"
      ]
     },
     "execution_count": 4,
     "metadata": {},
     "output_type": "execute_result"
    }
   ],
   "source": [
    "test_dataset"
   ]
  },
  {
   "cell_type": "code",
   "execution_count": 5,
   "id": "9f4b65f1-4c88-4d96-8f2f-dfdb551b2edb",
   "metadata": {},
   "outputs": [],
   "source": [
    "from torch.utils.data import DataLoader\n",
    "\n",
    "loaders = {\n",
    "    'train' : DataLoader(train_dataset,\n",
    "                        batch_size = 100,\n",
    "                        shuffle = True,\n",
    "                        num_workers = 1),\n",
    "\n",
    "    'test' : DataLoader(test_dataset,\n",
    "                        batch_size = 100,\n",
    "                        shuffle = True,\n",
    "                        num_workers = 1),\n",
    "}"
   ]
  },
  {
   "cell_type": "code",
   "execution_count": 6,
   "id": "ff9108c4-52ab-408d-b1c4-aa11372ae05a",
   "metadata": {},
   "outputs": [
    {
     "data": {
      "text/plain": [
       "{'train': <torch.utils.data.dataloader.DataLoader at 0x1d85c69f7d0>,\n",
       " 'test': <torch.utils.data.dataloader.DataLoader at 0x1d8535e3b60>}"
      ]
     },
     "execution_count": 6,
     "metadata": {},
     "output_type": "execute_result"
    }
   ],
   "source": [
    "loaders"
   ]
  },
  {
   "cell_type": "code",
   "execution_count": 7,
   "id": "75863f7e-b234-4e0e-bb03-5224e2f3c65f",
   "metadata": {},
   "outputs": [],
   "source": [
    "class CNN(nn.Module):\n",
    "\n",
    "    def __init__(self):\n",
    "        super(CNN, self).__init__()\n",
    "        self.conv1 = nn.Conv2d(1, 10, kernel_size=5)\n",
    "        self.conv2 = nn.Conv2d(10, 20, kernel_size=5)\n",
    "        self.conv2_drop = nn.Dropout2d()\n",
    "        self.fc1 = nn.Linear(320, 50)\n",
    "        self.fc2 = nn.Linear(50, 10)\n",
    "\n",
    "    def forward(self, x):\n",
    "        x = F.relu(F.max_pool2d(self.conv1(x), 2))\n",
    "        x = F.relu(F.max_pool2d(self.conv2_drop(self.conv2(x)),2))\n",
    "        x = x.view(-1, 320)\n",
    "        x = F.relu(self.fc1(x))\n",
    "        x = F.dropout(x, training=self.training)\n",
    "        x = self.fc2(x)\n",
    "        return F.softmax(x)"
   ]
  },
  {
   "cell_type": "code",
   "execution_count": 8,
   "id": "1f440311-ec45-41da-b498-170431047fb3",
   "metadata": {},
   "outputs": [],
   "source": [
    "import torch\n",
    "device = torch.device('cuda' if torch.cuda.is_available() else 'cpu')\n",
    "model = CNN().to(device)\n",
    "optimizer = optim.Adam(model.parameters(), lr = 0.001)\n",
    "loss_fn = nn.CrossEntropyLoss()\n",
    "\n",
    "def train(epoch):\n",
    "    model.train()\n",
    "    for batch_idx, (data, target) in enumerate(loaders['train']):\n",
    "        data, target = data.to(device), target.to(device)\n",
    "        optimizer.zero_grad()\n",
    "        output = model(data)\n",
    "        loss = loss_fn(output, target)\n",
    "        loss.backward()\n",
    "        optimizer.step()\n",
    "        if batch_idx % 20 == 0:\n",
    "            print(f'Train Epoch:{epoch} [{batch_idx *len(data)}/{len(loaders[\"train\"].dataset)} ({100. * batch_idx / len(loaders[\"train\"]):.0f}%)]\\t{loss.item():.6}') \n",
    "\n",
    "def test():\n",
    "    model.eval()\n",
    "\n",
    "    test_loss = 0\n",
    "    correct = 0\n",
    "\n",
    "    with torch.no_grad():\n",
    "        for data, target in loaders['test']:\n",
    "            data, target = data.to(device), target.to(device)\n",
    "            output = model(data)\n",
    "            test_loss += loss_fn(output, target).item()\n",
    "            pred = output.argmax(dim = 1, keepdim = True)\n",
    "            correct += pred.eq(target.view_as(pred)).sum().item()\n",
    "\n",
    "    test_loss /= len(loaders['test'].dataset)\n",
    "    print(f'\\nTest set : Average loss: {test_loss:4f}, Accuracy {correct}/{len(loaders[\"test\"].dataset)} ({100. * correct / len(loaders[\"test\"].dataset):.0f} %\\n)')"
   ]
  },
  {
   "cell_type": "code",
   "execution_count": 9,
   "id": "cd24e2ed-389e-4909-9d33-b9fdf567dfe9",
   "metadata": {},
   "outputs": [
    {
     "name": "stderr",
     "output_type": "stream",
     "text": [
      "C:\\Users\\HP\\AppData\\Local\\Temp\\ipykernel_84448\\3891851454.py:18: UserWarning: Implicit dimension choice for softmax has been deprecated. Change the call to include dim=X as an argument.\n",
      "  return F.softmax(x)\n"
     ]
    },
    {
     "name": "stdout",
     "output_type": "stream",
     "text": [
      "Train Epoch:1 [0/60000 (0%)]\t2.30349\n",
      "Train Epoch:1 [2000/60000 (3%)]\t2.29404\n",
      "Train Epoch:1 [4000/60000 (7%)]\t2.21485\n",
      "Train Epoch:1 [6000/60000 (10%)]\t2.14373\n",
      "Train Epoch:1 [8000/60000 (13%)]\t2.0644\n",
      "Train Epoch:1 [10000/60000 (17%)]\t1.92465\n",
      "Train Epoch:1 [12000/60000 (20%)]\t1.84972\n",
      "Train Epoch:1 [14000/60000 (23%)]\t1.77667\n",
      "Train Epoch:1 [16000/60000 (27%)]\t1.77191\n",
      "Train Epoch:1 [18000/60000 (30%)]\t1.77849\n",
      "Train Epoch:1 [20000/60000 (33%)]\t1.85424\n",
      "Train Epoch:1 [22000/60000 (37%)]\t1.77038\n",
      "Train Epoch:1 [24000/60000 (40%)]\t1.80494\n",
      "Train Epoch:1 [26000/60000 (43%)]\t1.72046\n",
      "Train Epoch:1 [28000/60000 (47%)]\t1.72244\n",
      "Train Epoch:1 [30000/60000 (50%)]\t1.70744\n",
      "Train Epoch:1 [32000/60000 (53%)]\t1.76588\n",
      "Train Epoch:1 [34000/60000 (57%)]\t1.7541\n",
      "Train Epoch:1 [36000/60000 (60%)]\t1.67669\n",
      "Train Epoch:1 [38000/60000 (63%)]\t1.65217\n",
      "Train Epoch:1 [40000/60000 (67%)]\t1.64292\n",
      "Train Epoch:1 [42000/60000 (70%)]\t1.63493\n",
      "Train Epoch:1 [44000/60000 (73%)]\t1.71625\n",
      "Train Epoch:1 [46000/60000 (77%)]\t1.65009\n",
      "Train Epoch:1 [48000/60000 (80%)]\t1.60116\n",
      "Train Epoch:1 [50000/60000 (83%)]\t1.61349\n",
      "Train Epoch:1 [52000/60000 (87%)]\t1.63942\n",
      "Train Epoch:1 [54000/60000 (90%)]\t1.63893\n",
      "Train Epoch:1 [56000/60000 (93%)]\t1.63006\n",
      "Train Epoch:1 [58000/60000 (97%)]\t1.66897\n",
      "\n",
      "Test set : Average loss: 0.015329, Accuracy 9301/10000 (93 %\n",
      ")\n",
      "Train Epoch:2 [0/60000 (0%)]\t1.58454\n",
      "Train Epoch:2 [2000/60000 (3%)]\t1.63673\n",
      "Train Epoch:2 [4000/60000 (7%)]\t1.58202\n",
      "Train Epoch:2 [6000/60000 (10%)]\t1.68058\n",
      "Train Epoch:2 [8000/60000 (13%)]\t1.61828\n",
      "Train Epoch:2 [10000/60000 (17%)]\t1.63494\n",
      "Train Epoch:2 [12000/60000 (20%)]\t1.64758\n",
      "Train Epoch:2 [14000/60000 (23%)]\t1.61658\n",
      "Train Epoch:2 [16000/60000 (27%)]\t1.61005\n",
      "Train Epoch:2 [18000/60000 (30%)]\t1.5565\n",
      "Train Epoch:2 [20000/60000 (33%)]\t1.53293\n",
      "Train Epoch:2 [22000/60000 (37%)]\t1.61619\n",
      "Train Epoch:2 [24000/60000 (40%)]\t1.65278\n",
      "Train Epoch:2 [26000/60000 (43%)]\t1.55776\n",
      "Train Epoch:2 [28000/60000 (47%)]\t1.56333\n",
      "Train Epoch:2 [30000/60000 (50%)]\t1.58768\n",
      "Train Epoch:2 [32000/60000 (53%)]\t1.61867\n",
      "Train Epoch:2 [34000/60000 (57%)]\t1.60648\n",
      "Train Epoch:2 [36000/60000 (60%)]\t1.55789\n",
      "Train Epoch:2 [38000/60000 (63%)]\t1.60165\n",
      "Train Epoch:2 [40000/60000 (67%)]\t1.58841\n",
      "Train Epoch:2 [42000/60000 (70%)]\t1.53007\n",
      "Train Epoch:2 [44000/60000 (73%)]\t1.59134\n",
      "Train Epoch:2 [46000/60000 (77%)]\t1.57318\n",
      "Train Epoch:2 [48000/60000 (80%)]\t1.56846\n",
      "Train Epoch:2 [50000/60000 (83%)]\t1.52409\n",
      "Train Epoch:2 [52000/60000 (87%)]\t1.60841\n",
      "Train Epoch:2 [54000/60000 (90%)]\t1.56868\n",
      "Train Epoch:2 [56000/60000 (93%)]\t1.63124\n",
      "Train Epoch:2 [58000/60000 (97%)]\t1.5761\n",
      "\n",
      "Test set : Average loss: 0.015091, Accuracy 9527/10000 (95 %\n",
      ")\n",
      "Train Epoch:3 [0/60000 (0%)]\t1.61372\n",
      "Train Epoch:3 [2000/60000 (3%)]\t1.56388\n",
      "Train Epoch:3 [4000/60000 (7%)]\t1.55953\n",
      "Train Epoch:3 [6000/60000 (10%)]\t1.57672\n",
      "Train Epoch:3 [8000/60000 (13%)]\t1.57727\n",
      "Train Epoch:3 [10000/60000 (17%)]\t1.55499\n",
      "Train Epoch:3 [12000/60000 (20%)]\t1.51614\n",
      "Train Epoch:3 [14000/60000 (23%)]\t1.56637\n",
      "Train Epoch:3 [16000/60000 (27%)]\t1.55846\n",
      "Train Epoch:3 [18000/60000 (30%)]\t1.56028\n",
      "Train Epoch:3 [20000/60000 (33%)]\t1.56252\n",
      "Train Epoch:3 [22000/60000 (37%)]\t1.55885\n",
      "Train Epoch:3 [24000/60000 (40%)]\t1.54988\n",
      "Train Epoch:3 [26000/60000 (43%)]\t1.54358\n",
      "Train Epoch:3 [28000/60000 (47%)]\t1.54242\n",
      "Train Epoch:3 [30000/60000 (50%)]\t1.56471\n",
      "Train Epoch:3 [32000/60000 (53%)]\t1.54529\n",
      "Train Epoch:3 [34000/60000 (57%)]\t1.55181\n",
      "Train Epoch:3 [36000/60000 (60%)]\t1.53605\n",
      "Train Epoch:3 [38000/60000 (63%)]\t1.58484\n",
      "Train Epoch:3 [40000/60000 (67%)]\t1.58186\n",
      "Train Epoch:3 [42000/60000 (70%)]\t1.53323\n",
      "Train Epoch:3 [44000/60000 (73%)]\t1.57055\n",
      "Train Epoch:3 [46000/60000 (77%)]\t1.54062\n",
      "Train Epoch:3 [48000/60000 (80%)]\t1.54868\n",
      "Train Epoch:3 [50000/60000 (83%)]\t1.59092\n",
      "Train Epoch:3 [52000/60000 (87%)]\t1.54735\n",
      "Train Epoch:3 [54000/60000 (90%)]\t1.53942\n",
      "Train Epoch:3 [56000/60000 (93%)]\t1.52904\n",
      "Train Epoch:3 [58000/60000 (97%)]\t1.5557\n",
      "\n",
      "Test set : Average loss: 0.015005, Accuracy 9608/10000 (96 %\n",
      ")\n",
      "Train Epoch:4 [0/60000 (0%)]\t1.57658\n",
      "Train Epoch:4 [2000/60000 (3%)]\t1.56966\n",
      "Train Epoch:4 [4000/60000 (7%)]\t1.53086\n",
      "Train Epoch:4 [6000/60000 (10%)]\t1.58431\n",
      "Train Epoch:4 [8000/60000 (13%)]\t1.57142\n",
      "Train Epoch:4 [10000/60000 (17%)]\t1.54184\n",
      "Train Epoch:4 [12000/60000 (20%)]\t1.5296\n",
      "Train Epoch:4 [14000/60000 (23%)]\t1.55883\n",
      "Train Epoch:4 [16000/60000 (27%)]\t1.5295\n",
      "Train Epoch:4 [18000/60000 (30%)]\t1.52314\n",
      "Train Epoch:4 [20000/60000 (33%)]\t1.57851\n",
      "Train Epoch:4 [22000/60000 (37%)]\t1.47648\n",
      "Train Epoch:4 [24000/60000 (40%)]\t1.56913\n",
      "Train Epoch:4 [26000/60000 (43%)]\t1.53155\n",
      "Train Epoch:4 [28000/60000 (47%)]\t1.57818\n",
      "Train Epoch:4 [30000/60000 (50%)]\t1.54394\n",
      "Train Epoch:4 [32000/60000 (53%)]\t1.54309\n",
      "Train Epoch:4 [34000/60000 (57%)]\t1.56648\n",
      "Train Epoch:4 [36000/60000 (60%)]\t1.57847\n",
      "Train Epoch:4 [38000/60000 (63%)]\t1.54789\n",
      "Train Epoch:4 [40000/60000 (67%)]\t1.59467\n",
      "Train Epoch:4 [42000/60000 (70%)]\t1.59707\n",
      "Train Epoch:4 [44000/60000 (73%)]\t1.52344\n",
      "Train Epoch:4 [46000/60000 (77%)]\t1.54575\n",
      "Train Epoch:4 [48000/60000 (80%)]\t1.54401\n",
      "Train Epoch:4 [50000/60000 (83%)]\t1.55675\n",
      "Train Epoch:4 [52000/60000 (87%)]\t1.55614\n",
      "Train Epoch:4 [54000/60000 (90%)]\t1.5625\n",
      "Train Epoch:4 [56000/60000 (93%)]\t1.59545\n",
      "Train Epoch:4 [58000/60000 (97%)]\t1.53891\n",
      "\n",
      "Test set : Average loss: 0.014947, Accuracy 9673/10000 (97 %\n",
      ")\n",
      "Train Epoch:5 [0/60000 (0%)]\t1.53968\n",
      "Train Epoch:5 [2000/60000 (3%)]\t1.52809\n",
      "Train Epoch:5 [4000/60000 (7%)]\t1.54844\n",
      "Train Epoch:5 [6000/60000 (10%)]\t1.57232\n",
      "Train Epoch:5 [8000/60000 (13%)]\t1.55978\n",
      "Train Epoch:5 [10000/60000 (17%)]\t1.54196\n",
      "Train Epoch:5 [12000/60000 (20%)]\t1.56804\n",
      "Train Epoch:5 [14000/60000 (23%)]\t1.52117\n",
      "Train Epoch:5 [16000/60000 (27%)]\t1.53585\n",
      "Train Epoch:5 [18000/60000 (30%)]\t1.51264\n",
      "Train Epoch:5 [20000/60000 (33%)]\t1.54389\n",
      "Train Epoch:5 [22000/60000 (37%)]\t1.55363\n",
      "Train Epoch:5 [24000/60000 (40%)]\t1.5332\n",
      "Train Epoch:5 [26000/60000 (43%)]\t1.51395\n",
      "Train Epoch:5 [28000/60000 (47%)]\t1.52568\n",
      "Train Epoch:5 [30000/60000 (50%)]\t1.52036\n",
      "Train Epoch:5 [32000/60000 (53%)]\t1.54199\n",
      "Train Epoch:5 [34000/60000 (57%)]\t1.52187\n",
      "Train Epoch:5 [36000/60000 (60%)]\t1.51833\n",
      "Train Epoch:5 [38000/60000 (63%)]\t1.51598\n",
      "Train Epoch:5 [40000/60000 (67%)]\t1.5713\n",
      "Train Epoch:5 [42000/60000 (70%)]\t1.54982\n",
      "Train Epoch:5 [44000/60000 (73%)]\t1.56154\n",
      "Train Epoch:5 [46000/60000 (77%)]\t1.59939\n",
      "Train Epoch:5 [48000/60000 (80%)]\t1.54226\n",
      "Train Epoch:5 [50000/60000 (83%)]\t1.53104\n",
      "Train Epoch:5 [52000/60000 (87%)]\t1.55419\n",
      "Train Epoch:5 [54000/60000 (90%)]\t1.55949\n",
      "Train Epoch:5 [56000/60000 (93%)]\t1.55992\n",
      "Train Epoch:5 [58000/60000 (97%)]\t1.56341\n",
      "\n",
      "Test set : Average loss: 0.014933, Accuracy 9680/10000 (97 %\n",
      ")\n",
      "Train Epoch:6 [0/60000 (0%)]\t1.5675\n",
      "Train Epoch:6 [2000/60000 (3%)]\t1.51774\n",
      "Train Epoch:6 [4000/60000 (7%)]\t1.53492\n",
      "Train Epoch:6 [6000/60000 (10%)]\t1.51866\n",
      "Train Epoch:6 [8000/60000 (13%)]\t1.58717\n",
      "Train Epoch:6 [10000/60000 (17%)]\t1.55956\n",
      "Train Epoch:6 [12000/60000 (20%)]\t1.51258\n",
      "Train Epoch:6 [14000/60000 (23%)]\t1.53095\n",
      "Train Epoch:6 [16000/60000 (27%)]\t1.54788\n",
      "Train Epoch:6 [18000/60000 (30%)]\t1.55324\n",
      "Train Epoch:6 [20000/60000 (33%)]\t1.54496\n",
      "Train Epoch:6 [22000/60000 (37%)]\t1.53082\n",
      "Train Epoch:6 [24000/60000 (40%)]\t1.52739\n",
      "Train Epoch:6 [26000/60000 (43%)]\t1.54293\n",
      "Train Epoch:6 [28000/60000 (47%)]\t1.51108\n",
      "Train Epoch:6 [30000/60000 (50%)]\t1.51258\n",
      "Train Epoch:6 [32000/60000 (53%)]\t1.54494\n",
      "Train Epoch:6 [34000/60000 (57%)]\t1.50285\n",
      "Train Epoch:6 [36000/60000 (60%)]\t1.51509\n",
      "Train Epoch:6 [38000/60000 (63%)]\t1.55314\n",
      "Train Epoch:6 [40000/60000 (67%)]\t1.52607\n",
      "Train Epoch:6 [42000/60000 (70%)]\t1.52192\n",
      "Train Epoch:6 [44000/60000 (73%)]\t1.54107\n",
      "Train Epoch:6 [46000/60000 (77%)]\t1.55436\n",
      "Train Epoch:6 [48000/60000 (80%)]\t1.52209\n",
      "Train Epoch:6 [50000/60000 (83%)]\t1.52004\n",
      "Train Epoch:6 [52000/60000 (87%)]\t1.5008\n",
      "Train Epoch:6 [54000/60000 (90%)]\t1.56823\n",
      "Train Epoch:6 [56000/60000 (93%)]\t1.508\n",
      "Train Epoch:6 [58000/60000 (97%)]\t1.5064\n",
      "\n",
      "Test set : Average loss: 0.014889, Accuracy 9724/10000 (97 %\n",
      ")\n",
      "Train Epoch:7 [0/60000 (0%)]\t1.56641\n",
      "Train Epoch:7 [2000/60000 (3%)]\t1.53035\n",
      "Train Epoch:7 [4000/60000 (7%)]\t1.57391\n",
      "Train Epoch:7 [6000/60000 (10%)]\t1.54305\n",
      "Train Epoch:7 [8000/60000 (13%)]\t1.56475\n",
      "Train Epoch:7 [10000/60000 (17%)]\t1.51864\n",
      "Train Epoch:7 [12000/60000 (20%)]\t1.53114\n",
      "Train Epoch:7 [14000/60000 (23%)]\t1.48264\n",
      "Train Epoch:7 [16000/60000 (27%)]\t1.54762\n",
      "Train Epoch:7 [18000/60000 (30%)]\t1.51504\n",
      "Train Epoch:7 [20000/60000 (33%)]\t1.55234\n",
      "Train Epoch:7 [22000/60000 (37%)]\t1.5302\n",
      "Train Epoch:7 [24000/60000 (40%)]\t1.51819\n",
      "Train Epoch:7 [26000/60000 (43%)]\t1.533\n",
      "Train Epoch:7 [28000/60000 (47%)]\t1.49575\n",
      "Train Epoch:7 [30000/60000 (50%)]\t1.56514\n",
      "Train Epoch:7 [32000/60000 (53%)]\t1.51794\n",
      "Train Epoch:7 [34000/60000 (57%)]\t1.51481\n",
      "Train Epoch:7 [36000/60000 (60%)]\t1.50984\n",
      "Train Epoch:7 [38000/60000 (63%)]\t1.54969\n",
      "Train Epoch:7 [40000/60000 (67%)]\t1.5593\n",
      "Train Epoch:7 [42000/60000 (70%)]\t1.54192\n",
      "Train Epoch:7 [44000/60000 (73%)]\t1.52234\n",
      "Train Epoch:7 [46000/60000 (77%)]\t1.51857\n",
      "Train Epoch:7 [48000/60000 (80%)]\t1.48664\n",
      "Train Epoch:7 [50000/60000 (83%)]\t1.53767\n",
      "Train Epoch:7 [52000/60000 (87%)]\t1.51601\n",
      "Train Epoch:7 [54000/60000 (90%)]\t1.57685\n",
      "Train Epoch:7 [56000/60000 (93%)]\t1.53065\n",
      "Train Epoch:7 [58000/60000 (97%)]\t1.51386\n",
      "\n",
      "Test set : Average loss: 0.014891, Accuracy 9720/10000 (97 %\n",
      ")\n",
      "Train Epoch:8 [0/60000 (0%)]\t1.51008\n",
      "Train Epoch:8 [2000/60000 (3%)]\t1.55387\n",
      "Train Epoch:8 [4000/60000 (7%)]\t1.54947\n",
      "Train Epoch:8 [6000/60000 (10%)]\t1.52349\n",
      "Train Epoch:8 [8000/60000 (13%)]\t1.4941\n",
      "Train Epoch:8 [10000/60000 (17%)]\t1.54406\n",
      "Train Epoch:8 [12000/60000 (20%)]\t1.53034\n",
      "Train Epoch:8 [14000/60000 (23%)]\t1.58305\n",
      "Train Epoch:8 [16000/60000 (27%)]\t1.50099\n",
      "Train Epoch:8 [18000/60000 (30%)]\t1.53625\n",
      "Train Epoch:8 [20000/60000 (33%)]\t1.51643\n",
      "Train Epoch:8 [22000/60000 (37%)]\t1.54004\n",
      "Train Epoch:8 [24000/60000 (40%)]\t1.51903\n",
      "Train Epoch:8 [26000/60000 (43%)]\t1.52745\n",
      "Train Epoch:8 [28000/60000 (47%)]\t1.52783\n",
      "Train Epoch:8 [30000/60000 (50%)]\t1.49915\n",
      "Train Epoch:8 [32000/60000 (53%)]\t1.51665\n",
      "Train Epoch:8 [34000/60000 (57%)]\t1.52331\n",
      "Train Epoch:8 [36000/60000 (60%)]\t1.51105\n",
      "Train Epoch:8 [38000/60000 (63%)]\t1.55465\n",
      "Train Epoch:8 [40000/60000 (67%)]\t1.51615\n",
      "Train Epoch:8 [42000/60000 (70%)]\t1.4928\n",
      "Train Epoch:8 [44000/60000 (73%)]\t1.54649\n",
      "Train Epoch:8 [46000/60000 (77%)]\t1.50376\n",
      "Train Epoch:8 [48000/60000 (80%)]\t1.51949\n",
      "Train Epoch:8 [50000/60000 (83%)]\t1.55204\n",
      "Train Epoch:8 [52000/60000 (87%)]\t1.5241\n",
      "Train Epoch:8 [54000/60000 (90%)]\t1.5183\n",
      "Train Epoch:8 [56000/60000 (93%)]\t1.49781\n",
      "Train Epoch:8 [58000/60000 (97%)]\t1.50872\n",
      "\n",
      "Test set : Average loss: 0.014860, Accuracy 9761/10000 (98 %\n",
      ")\n",
      "Train Epoch:9 [0/60000 (0%)]\t1.52359\n",
      "Train Epoch:9 [2000/60000 (3%)]\t1.50486\n",
      "Train Epoch:9 [4000/60000 (7%)]\t1.52837\n",
      "Train Epoch:9 [6000/60000 (10%)]\t1.55994\n",
      "Train Epoch:9 [8000/60000 (13%)]\t1.57145\n",
      "Train Epoch:9 [10000/60000 (17%)]\t1.48453\n",
      "Train Epoch:9 [12000/60000 (20%)]\t1.51093\n",
      "Train Epoch:9 [14000/60000 (23%)]\t1.58405\n",
      "Train Epoch:9 [16000/60000 (27%)]\t1.49492\n",
      "Train Epoch:9 [18000/60000 (30%)]\t1.51855\n",
      "Train Epoch:9 [20000/60000 (33%)]\t1.53859\n",
      "Train Epoch:9 [22000/60000 (37%)]\t1.51092\n",
      "Train Epoch:9 [24000/60000 (40%)]\t1.55412\n",
      "Train Epoch:9 [26000/60000 (43%)]\t1.59361\n",
      "Train Epoch:9 [28000/60000 (47%)]\t1.53712\n",
      "Train Epoch:9 [30000/60000 (50%)]\t1.51706\n",
      "Train Epoch:9 [32000/60000 (53%)]\t1.50677\n",
      "Train Epoch:9 [34000/60000 (57%)]\t1.48654\n",
      "Train Epoch:9 [36000/60000 (60%)]\t1.52392\n",
      "Train Epoch:9 [38000/60000 (63%)]\t1.53644\n",
      "Train Epoch:9 [40000/60000 (67%)]\t1.51992\n",
      "Train Epoch:9 [42000/60000 (70%)]\t1.52745\n",
      "Train Epoch:9 [44000/60000 (73%)]\t1.5593\n",
      "Train Epoch:9 [46000/60000 (77%)]\t1.52445\n",
      "Train Epoch:9 [48000/60000 (80%)]\t1.52953\n",
      "Train Epoch:9 [50000/60000 (83%)]\t1.51238\n",
      "Train Epoch:9 [52000/60000 (87%)]\t1.60325\n",
      "Train Epoch:9 [54000/60000 (90%)]\t1.52908\n",
      "Train Epoch:9 [56000/60000 (93%)]\t1.50975\n",
      "Train Epoch:9 [58000/60000 (97%)]\t1.53334\n",
      "\n",
      "Test set : Average loss: 0.014874, Accuracy 9737/10000 (97 %\n",
      ")\n",
      "Train Epoch:10 [0/60000 (0%)]\t1.57555\n",
      "Train Epoch:10 [2000/60000 (3%)]\t1.50296\n",
      "Train Epoch:10 [4000/60000 (7%)]\t1.50023\n",
      "Train Epoch:10 [6000/60000 (10%)]\t1.54249\n",
      "Train Epoch:10 [8000/60000 (13%)]\t1.54062\n",
      "Train Epoch:10 [10000/60000 (17%)]\t1.5438\n",
      "Train Epoch:10 [12000/60000 (20%)]\t1.5044\n",
      "Train Epoch:10 [14000/60000 (23%)]\t1.55205\n",
      "Train Epoch:10 [16000/60000 (27%)]\t1.54698\n",
      "Train Epoch:10 [18000/60000 (30%)]\t1.51167\n",
      "Train Epoch:10 [20000/60000 (33%)]\t1.51523\n",
      "Train Epoch:10 [22000/60000 (37%)]\t1.53729\n",
      "Train Epoch:10 [24000/60000 (40%)]\t1.54179\n",
      "Train Epoch:10 [26000/60000 (43%)]\t1.51758\n",
      "Train Epoch:10 [28000/60000 (47%)]\t1.4905\n",
      "Train Epoch:10 [30000/60000 (50%)]\t1.50502\n",
      "Train Epoch:10 [32000/60000 (53%)]\t1.51588\n",
      "Train Epoch:10 [34000/60000 (57%)]\t1.4932\n",
      "Train Epoch:10 [36000/60000 (60%)]\t1.50533\n",
      "Train Epoch:10 [38000/60000 (63%)]\t1.53136\n",
      "Train Epoch:10 [40000/60000 (67%)]\t1.56253\n",
      "Train Epoch:10 [42000/60000 (70%)]\t1.5279\n",
      "Train Epoch:10 [44000/60000 (73%)]\t1.53091\n",
      "Train Epoch:10 [46000/60000 (77%)]\t1.53561\n",
      "Train Epoch:10 [48000/60000 (80%)]\t1.52575\n",
      "Train Epoch:10 [50000/60000 (83%)]\t1.5035\n",
      "Train Epoch:10 [52000/60000 (87%)]\t1.53045\n",
      "Train Epoch:10 [54000/60000 (90%)]\t1.51603\n",
      "Train Epoch:10 [56000/60000 (93%)]\t1.54234\n",
      "Train Epoch:10 [58000/60000 (97%)]\t1.51302\n",
      "\n",
      "Test set : Average loss: 0.014861, Accuracy 9753/10000 (98 %\n",
      ")\n"
     ]
    }
   ],
   "source": [
    "for epoch in range(1, 11):\n",
    "    train(epoch)\n",
    "    test()"
   ]
  },
  {
   "cell_type": "code",
   "execution_count": 10,
   "id": "40f3a2d3-3dcb-4523-87ac-ed4de756c009",
   "metadata": {},
   "outputs": [
    {
     "data": {
      "text/plain": [
       "device(type='cuda')"
      ]
     },
     "execution_count": 10,
     "metadata": {},
     "output_type": "execute_result"
    }
   ],
   "source": [
    "device"
   ]
  },
  {
   "cell_type": "code",
   "execution_count": 11,
   "id": "986f9e68-988e-4489-95f0-c5fc6a0df9eb",
   "metadata": {},
   "outputs": [
    {
     "name": "stdout",
     "output_type": "stream",
     "text": [
      "Prediction: 7\n"
     ]
    },
    {
     "name": "stderr",
     "output_type": "stream",
     "text": [
      "C:\\Users\\HP\\AppData\\Local\\Temp\\ipykernel_84448\\3891851454.py:18: UserWarning: Implicit dimension choice for softmax has been deprecated. Change the call to include dim=X as an argument.\n",
      "  return F.softmax(x)\n"
     ]
    },
    {
     "data": {
      "image/png": "[encoded data removed]",
      "text/plain": [
       "<Figure size 640x480 with 1 Axes>"
      ]
     },
     "metadata": {},
     "output_type": "display_data"
    }
   ],
   "source": [
    "import matplotlib.pyplot as plt\n",
    "model.eval()\n",
    "data, target = test_dataset[0]\n",
    "data = data.unsqueeze(0).to(device)\n",
    "output = model(data)\n",
    "prediction = output.argmax(dim = 1, keepdim = True).item()\n",
    "print(f'Prediction: {prediction}')\n",
    "image = data.squeeze(0).squeeze(0).cpu().numpy()\n",
    "plt.imshow(image, cmap='gray')\n",
    "plt.show()"
   ]
  },
  {
   "cell_type": "code",
   "execution_count": null,
   "id": "9bea0ab0-ab79-4cd5-8503-df15ee8bf8d8",
   "metadata": {},
   "outputs": [],
   "source": []
  }
 ],
 "metadata": {
  "kernelspec": {
   "display_name": "Python 3 (ipykernel)",
   "language": "python",
   "name": "python3"
  },
  "language_info": {
   "codemirror_mode": {
    "name": "ipython",
    "version": 3
   },
   "file_extension": ".py",
   "mimetype": "text/x-python",
   "name": "python",
   "nbconvert_exporter": "python",
   "pygments_lexer": "ipython3",
   "version": "3.12.2"
  }
 },
 "nbformat": 4,
 "nbformat_minor": 5
}
